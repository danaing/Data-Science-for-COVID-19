{
 "cells": [
  {
   "cell_type": "markdown",
   "metadata": {},
   "source": [
    "# DACON 4 - 1차 제출\n",
    "## COVID-19 Data EDA\n",
    "\n",
    "### 말을 써야함 "
   ]
  },
  {
   "cell_type": "markdown",
   "metadata": {},
   "source": [
    "- - - \n",
    "## Setting"
   ]
  },
  {
   "cell_type": "code",
   "execution_count": 1,
   "metadata": {},
   "outputs": [
    {
     "ename": "ModuleNotFoundError",
     "evalue": "No module named 'geopandas'",
     "output_type": "error",
     "traceback": [
      "\u001b[1;31m---------------------------------------------------------------------------\u001b[0m",
      "\u001b[1;31mModuleNotFoundError\u001b[0m                       Traceback (most recent call last)",
      "\u001b[1;32m<ipython-input-1-20d487bfb163>\u001b[0m in \u001b[0;36m<module>\u001b[1;34m\u001b[0m\n\u001b[0;32m     10\u001b[0m \u001b[1;32mimport\u001b[0m \u001b[0mseaborn\u001b[0m \u001b[1;32mas\u001b[0m \u001b[0msns\u001b[0m\u001b[1;33m\u001b[0m\u001b[1;33m\u001b[0m\u001b[0m\n\u001b[0;32m     11\u001b[0m \u001b[1;32mfrom\u001b[0m \u001b[0mmatplotlib\u001b[0m \u001b[1;32mimport\u001b[0m \u001b[0manimation\u001b[0m\u001b[1;33m,\u001b[0m \u001b[0mrc\u001b[0m\u001b[1;33m\u001b[0m\u001b[1;33m\u001b[0m\u001b[0m\n\u001b[1;32m---> 12\u001b[1;33m \u001b[1;32mimport\u001b[0m \u001b[0mgeopandas\u001b[0m \u001b[1;32mas\u001b[0m \u001b[0mgpd\u001b[0m\u001b[1;33m\u001b[0m\u001b[1;33m\u001b[0m\u001b[0m\n\u001b[0m\u001b[0;32m     13\u001b[0m \u001b[1;32mfrom\u001b[0m \u001b[0mshapely\u001b[0m\u001b[1;33m.\u001b[0m\u001b[0mgeometry\u001b[0m \u001b[1;32mimport\u001b[0m \u001b[0mPoint\u001b[0m\u001b[1;33m,\u001b[0m \u001b[0mPolygon\u001b[0m\u001b[1;33m,\u001b[0m \u001b[0mLineString\u001b[0m\u001b[1;33m\u001b[0m\u001b[1;33m\u001b[0m\u001b[0m\n\u001b[0;32m     14\u001b[0m \u001b[1;32mimport\u001b[0m \u001b[0mplotly\u001b[0m\u001b[1;33m.\u001b[0m\u001b[0mexpress\u001b[0m \u001b[1;32mas\u001b[0m \u001b[0mpx\u001b[0m\u001b[1;33m\u001b[0m\u001b[1;33m\u001b[0m\u001b[0m\n",
      "\u001b[1;31mModuleNotFoundError\u001b[0m: No module named 'geopandas'"
     ]
    }
   ],
   "source": [
    "import numpy as np \n",
    "import pandas as pd\n",
    "import os\n",
    "import glob\n",
    "import re\n",
    "import sys\n",
    "\n",
    "import plotnine\n",
    "import matplotlib.pyplot as plt\n",
    "import seaborn as sns\n",
    "from matplotlib import animation, rc\n",
    "import geopandas as gpd\n",
    "from shapely.geometry import Point, Polygon, LineString\n",
    "import plotly.express as px\n",
    "import folium\n",
    "from folium import plugins\n",
    "import branca\n",
    "import json\n",
    "\n",
    "import cufflinks as cf\n",
    "from plotly.offline import download_plotlyjs, init_notebook_mode, plot, iplot\n",
    "import plotly\n",
    "import plotly.io as pio\n",
    "import matplotlib.pylab as plt\n",
    "\n",
    "import plotly.graph_objects as go\n",
    "from plotly.subplots import make_subplots\n",
    "\n",
    "pio.renderers.default = \"svg\""
   ]
  },
  {
   "cell_type": "code",
   "execution_count": null,
   "metadata": {},
   "outputs": [],
   "source": [
    "files = glob.glob('dataset/*.csv')\n",
    "data = []\n",
    "for i in files :\n",
    "    i = re.sub(\"dataset/\", \"\", i)\n",
    "    data.append(re.sub(\".csv\",\"\",i))\n",
    "for i in range(len(files)) :\n",
    "    globals()[data[i]] = pd.read_csv(files[i])\n",
    "data"
   ]
  },
  {
   "cell_type": "markdown",
   "metadata": {},
   "source": [
    "- - -\n",
    "\n",
    "## Time related\n",
    "\n",
    "### 1. Time"
   ]
  },
  {
   "cell_type": "code",
   "execution_count": null,
   "metadata": {},
   "outputs": [],
   "source": [
    "# Create figure with secondary y-axis\n",
    "fig = make_subplots(specs=[[{\"secondary_y\": True}]])\n",
    "\n",
    "# Add traces\n",
    "fig.add_trace(\n",
    "    go.Scatter(x=Time.date , y=Time.confirmed, name=\"comfirmed\"),\n",
    "    secondary_y=False,\n",
    ")\n",
    "\n",
    "fig.add_trace(\n",
    "    go.Scatter(x=Time.date, y=Time.deceased, name=\"deceased\"),\n",
    "    secondary_y=True,\n",
    ")\n",
    "\n",
    "# Add figure title\n",
    "fig.update_layout(\n",
    "    title_text=\"Confirmed & Deceased with Different Scale\"\n",
    ")\n",
    "\n",
    "# Set x-axis title\n",
    "fig.update_xaxes(title_text=\"Date\")\n",
    "\n",
    "# Set y-axes\n",
    "fig.update_layout(\n",
    "    yaxis=dict(\n",
    "        title=\"Confirmed\",\n",
    "    ),\n",
    "    yaxis2=dict(\n",
    "        title=\"Deceased\",\n",
    "    )\n",
    ")\n",
    "\n",
    "fig.show()"
   ]
  },
  {
   "cell_type": "markdown",
   "metadata": {},
   "source": [
    "### 2. TimeProvince"
   ]
  },
  {
   "cell_type": "code",
   "execution_count": null,
   "metadata": {},
   "outputs": [],
   "source": [
    "fig = px.bar(TimeProvince, x=\"province\", y=\"confirmed\", color=\"province\",\n",
    "    animation_frame=\"date\", animation_group=\"province\", range_y=[0,5500])\n",
    "fig.show()"
   ]
  },
  {
   "cell_type": "code",
   "execution_count": null,
   "metadata": {},
   "outputs": [],
   "source": [
    "fig_small = px.bar(TimeProvince, x=\"province\", y=\"confirmed\", color=\"province\",\n",
    "    animation_frame=\"date\", animation_group=\"province\", range_y=[0,300])\n",
    "fig_small.show()"
   ]
  },
  {
   "cell_type": "code",
   "execution_count": null,
   "metadata": {},
   "outputs": [],
   "source": [
    "fig_dec = px.bar(TimeProvince, x=\"province\", y=\"deceased\", color=\"province\",\n",
    "    animation_frame=\"date\", animation_group=\"province\", range_y=[0,100])\n",
    "fig_dec.show()"
   ]
  },
  {
   "cell_type": "code",
   "execution_count": null,
   "metadata": {},
   "outputs": [],
   "source": [
    "import matplotlib.pylab as plt\n",
    "\n",
    "plt.rcParams[\"figure.figsize\"] = (15,6)\n",
    "plt.rcParams['lines.linewidth'] = 3\n",
    "plt.rcParams['axes.grid'] = True\n",
    "\n",
    "df = TimeProvince.iloc[TimeProvince[TimeProvince.date == \"2020-02-18\"].index[0]:]\n",
    "\n",
    "for key, grp in df.groupby(['province']): \n",
    "    plt.plot(grp['date'], grp['confirmed']\n",
    "            ,label = \"in {}\".format(key)\n",
    "            )\n",
    "plt.legend(loc='upper left')    \n",
    "plt.xticks(rotation=45)\n",
    "\n",
    "plt.show()"
   ]
  },
  {
   "cell_type": "markdown",
   "metadata": {},
   "source": [
    "### 3. TimeAge"
   ]
  },
  {
   "cell_type": "code",
   "execution_count": null,
   "metadata": {},
   "outputs": [],
   "source": [
    "fig_age = px.bar(TimeAge, x=\"age\", y=\"confirmed\", color=\"age\",\n",
    "    animation_frame=\"date\", animation_group=\"age\", range_y=[0,3000])\n",
    "fig_age.show()"
   ]
  },
  {
   "cell_type": "code",
   "execution_count": null,
   "metadata": {},
   "outputs": [],
   "source": [
    "plt.rcParams[\"figure.figsize\"] = (12,6)\n",
    "plt.rcParams['lines.linewidth'] = 3\n",
    "plt.rcParams['axes.grid'] = True\n",
    "\n",
    "for key, grp in TimeAge.groupby(['age']): \n",
    "    plt.plot(grp['date'], grp['confirmed']\n",
    "            ,label = \"Age in {}\".format(key)\n",
    "            )\n",
    "plt.legend(loc='upper right')    \n",
    "plt.xticks(rotation=45)\n",
    "\n",
    "plt.show()"
   ]
  },
  {
   "cell_type": "markdown",
   "metadata": {},
   "source": [
    "### 4. TimeGender"
   ]
  },
  {
   "cell_type": "code",
   "execution_count": null,
   "metadata": {},
   "outputs": [],
   "source": [
    "fig_sex = px.bar(TimeGender, x=\"sex\", y=\"confirmed\", color=\"sex\",\n",
    "    animation_frame=\"date\", animation_group=\"sex\", range_y=[0,6000])\n",
    "fig_sex.show()"
   ]
  },
  {
   "cell_type": "code",
   "execution_count": null,
   "metadata": {},
   "outputs": [],
   "source": [
    "fig = go.Figure()\n",
    "fig.add_trace(go.Scatter(\n",
    "                x=TimeGender.date,\n",
    "                y=TimeGender[TimeGender.sex == \"male\"].confirmed,\n",
    "                name=\"Male\",\n",
    "                line_color='deepskyblue',\n",
    "                opacity=0.8))\n",
    "\n",
    "fig.add_trace(go.Scatter(\n",
    "                x=TimeGender.date,\n",
    "                y=TimeGender[TimeGender.sex == \"female\"].confirmed,\n",
    "                name=\"Female\",\n",
    "                line_color='deeppink',\n",
    "                opacity=0.8))\n",
    "\n",
    "# Use date string to set xaxis range\n",
    "fig.update_layout(title_text=\"Gender; Confirmed\")\n",
    "fig.show()"
   ]
  },
  {
   "cell_type": "markdown",
   "metadata": {},
   "source": [
    "### 5. SearchTrend\n"
   ]
  },
  {
   "cell_type": "code",
   "execution_count": null,
   "metadata": {},
   "outputs": [],
   "source": [
    "SearchTrend.describe()"
   ]
  },
  {
   "cell_type": "code",
   "execution_count": null,
   "metadata": {},
   "outputs": [],
   "source": [
    "fig = go.Figure()\n",
    "fig.add_trace(go.Scatter(\n",
    "                x=SearchTrend.date,\n",
    "                y=SearchTrend.cold,\n",
    "                name=\"Cold\",\n",
    "                line_color='brown',\n",
    "                opacity=0.8))\n",
    "\n",
    "fig.add_trace(go.Scatter(\n",
    "                x=SearchTrend.date,\n",
    "                y=SearchTrend.flu,\n",
    "                name=\"Flu\",\n",
    "                line_color='skyblue',\n",
    "                opacity=0.8))\n",
    "\n",
    "fig.add_trace(go.Scatter(\n",
    "                x=SearchTrend.date,\n",
    "                y=SearchTrend.pneumonia,\n",
    "                name=\"Pneumonia\",\n",
    "                line_color='green',\n",
    "                opacity=0.8))\n",
    "\n",
    "fig.add_trace(go.Scatter(\n",
    "                x=SearchTrend.date,\n",
    "                y=SearchTrend.coronavirus,\n",
    "                name=\"Corona\",\n",
    "                line_color='red',\n",
    "                opacity=0.8))\n",
    "\n",
    "# Use date string to set xaxis range\n",
    "fig.update_layout(title_text=\"Search Trend\")\n",
    "fig.show()"
   ]
  },
  {
   "cell_type": "code",
   "execution_count": null,
   "metadata": {},
   "outputs": [],
   "source": [
    "fig = go.Figure()\n",
    "\n",
    "df = SearchTrend.iloc[SearchTrend[SearchTrend.date == \"2019-12-19\"].index[0]:]\n",
    "\n",
    "fig.add_trace(go.Scatter(\n",
    "                x=df.date,\n",
    "                y=df.cold,\n",
    "                name=\"Cold\",\n",
    "                line_color='brown',\n",
    "                opacity=0.8))\n",
    "\n",
    "fig.add_trace(go.Scatter(\n",
    "                x=df.date,\n",
    "                y=df.flu,\n",
    "                name=\"Flu\",\n",
    "                line_color='skyblue',\n",
    "                opacity=0.8))\n",
    "\n",
    "fig.add_trace(go.Scatter(\n",
    "                x=df.date,\n",
    "                y=df.pneumonia,\n",
    "                name=\"Pneumonia\",\n",
    "                line_color='green',\n",
    "                opacity=0.8))\n",
    "\n",
    "fig.add_trace(go.Scatter(\n",
    "                x=df.date,\n",
    "                y=df.coronavirus,\n",
    "                name=\"Corona\",\n",
    "                line_color='red',\n",
    "                opacity=0.8))\n",
    "\n",
    "# Use date string to set xaxis range\n",
    "fig.update_layout(title_text=\"Search Trend Recent\")\n",
    "fig.show()"
   ]
  },
  {
   "cell_type": "markdown",
   "metadata": {},
   "source": [
    "### 5-1. Search Trend + Confirmed"
   ]
  },
  {
   "cell_type": "code",
   "execution_count": null,
   "metadata": {},
   "outputs": [],
   "source": [
    "grouped = (Time.groupby(['date'])\n",
    "            .agg({'confirmed':'sum', 'deceased':'sum'})\n",
    "            .reset_index())\n",
    "merged = pd.merge(grouped,SearchTrend,\n",
    "        how='left',\n",
    "        on=('date')\n",
    "        )"
   ]
  },
  {
   "cell_type": "code",
   "execution_count": null,
   "metadata": {},
   "outputs": [],
   "source": [
    "import plotly.graph_objects as go\n",
    "from plotly.subplots import make_subplots\n",
    "\n",
    "# Create figure with secondary y-axis\n",
    "fig = make_subplots(specs=[[{\"secondary_y\": True}]])\n",
    "\n",
    "# Add traces\n",
    "fig.add_trace(\n",
    "    go.Scatter(x=merged.date , y=merged.confirmed, name=\"Comfirmed\"), secondary_y=False)\n",
    "\n",
    "fig.add_trace(\n",
    "    go.Scatter(x=merged.date, y=merged.cold, name=\"Cold trend\"), secondary_y=True)\n",
    "\n",
    "fig.add_trace(\n",
    "    go.Scatter(x=merged.date, y=merged.flu, name=\"Flu trend\"), secondary_y=True)\n",
    "\n",
    "fig.add_trace(\n",
    "    go.Scatter(x=merged.date, y=merged.pneumonia, name=\"Pneumonia trend\"), secondary_y=True)\n",
    "\n",
    "# Add figure title\n",
    "fig.update_layout(\n",
    "    title_text=\"Confirmed & Search Trend\")\n",
    "\n",
    "# Set x-axis title\n",
    "fig.update_xaxes(title_text=\"Date\")\n",
    "\n",
    "# Set y-axes\n",
    "fig.update_layout(\n",
    "    yaxis=dict(title=\"Confirmed\"),\n",
    "    yaxis2=dict(title=\"Trend\")\n",
    ")\n",
    "\n",
    "fig.show()"
   ]
  },
  {
   "cell_type": "code",
   "execution_count": null,
   "metadata": {},
   "outputs": [],
   "source": [
    "# Create figure with secondary y-axis\n",
    "fig = make_subplots(specs=[[{\"secondary_y\": True}]])\n",
    "\n",
    "# Add traces\n",
    "fig.add_trace(\n",
    "    go.Scatter(x=merged.date , y=merged.confirmed, name=\"Comfirmed\"), secondary_y=False)\n",
    "\n",
    "fig.add_trace(\n",
    "    go.Scatter(x=merged.date, y=merged.coronavirus, name=\"Coronavirus trend\"), secondary_y=True)\n",
    "\n",
    "# Add figure title\n",
    "fig.update_layout(\n",
    "    title_text=\"Confirmed & Corona Search Trend\")\n",
    "\n",
    "# Set x-axis title\n",
    "fig.update_xaxes(title_text=\"Date\")\n",
    "\n",
    "# Set y-axes\n",
    "fig.update_layout(\n",
    "    yaxis=dict(title=\"Confirmed\"),\n",
    "    yaxis2=dict(title=\"Trend\")\n",
    ")\n",
    "\n",
    "fig.show()"
   ]
  },
  {
   "cell_type": "markdown",
   "metadata": {},
   "source": [
    "- - -\n",
    "\n",
    "## Region related"
   ]
  },
  {
   "cell_type": "markdown",
   "metadata": {},
   "source": [
    "### 1. Region\n",
    "\n",
    "### 1-1. Count"
   ]
  },
  {
   "cell_type": "code",
   "execution_count": null,
   "metadata": {},
   "outputs": [],
   "source": [
    "grouped = (Region[Region.province != \"Korea\"].groupby(['province'])\n",
    "            .agg({'elementary_school_count':'sum', 'kindergarten_count':'sum', 'university_count':'sum', 'nursing_home_count':'sum'})\n",
    "            .reset_index())\n",
    "    \n",
    "grouped.iloc[:,1:len(grouped)] = grouped.iloc[:,1:len(grouped)]/2 # Region province별 첫 행이 전체 sum값이 들어있음\n",
    "\n",
    "import plotly.graph_objects as go\n",
    "from plotly.subplots import make_subplots\n",
    "\n",
    "labels = grouped.province\n",
    "\n",
    "# Pie Chart !\n",
    "fig = make_subplots(rows=2, cols=2, specs=[[{'type':'domain'}, {'type':'domain'}], [{'type':'domain'}, {'type':'domain'}]]\n",
    "                    ,subplot_titles=[\"kindergarten\", \"Elementary\", \"University\", \"Nursing Home\"])\n",
    "fig.add_trace(go.Pie(labels=labels, values=grouped.kindergarten_count, name=\"kindergarten count\"),\n",
    "              1, 1)\n",
    "fig.add_trace(go.Pie(labels=labels, values=grouped.elementary_school_count, name=\"Elementary School count\"),\n",
    "              1, 2)\n",
    "fig.add_trace(go.Pie(labels=labels, values=grouped.university_count, name=\"University count\"),\n",
    "              2, 1)\n",
    "fig.add_trace(go.Pie(labels=labels, values=grouped.nursing_home_count, name=\"Nursing Home count\"),\n",
    "              2, 2)\n",
    "\n",
    "fig.update_traces(hole=.4, hoverinfo=\"label+percent+name\")\n",
    "\n",
    "fig.update_layout(\n",
    "    title_text=\"Region Information\")\n",
    "fig.show()"
   ]
  },
  {
   "cell_type": "markdown",
   "metadata": {},
   "source": [
    "### 1-2. Ratio"
   ]
  },
  {
   "cell_type": "code",
   "execution_count": null,
   "metadata": {},
   "outputs": [],
   "source": [
    "import plotly.express as px\n",
    "\n",
    "fig = px.bar(Region, x=\"city\", y=\"academy_ratio\", color='province')\n",
    "fig.update_layout(\n",
    "    title='All Academy Ratio'\n",
    "    , xaxis=dict(\n",
    "        tickfont_size=14,\n",
    "        tickangle = 45))\n",
    "fig.show()"
   ]
  },
  {
   "cell_type": "code",
   "execution_count": 4,
   "metadata": {},
   "outputs": [
    {
     "ename": "NameError",
     "evalue": "name 'Region' is not defined",
     "output_type": "error",
     "traceback": [
      "\u001b[1;31m---------------------------------------------------------------------------\u001b[0m",
      "\u001b[1;31mNameError\u001b[0m                                 Traceback (most recent call last)",
      "\u001b[1;32m<ipython-input-4-1fcb43f0d9af>\u001b[0m in \u001b[0;36m<module>\u001b[1;34m\u001b[0m\n\u001b[1;32m----> 1\u001b[1;33m \u001b[0mseoul\u001b[0m \u001b[1;33m=\u001b[0m \u001b[0mRegion\u001b[0m\u001b[1;33m[\u001b[0m\u001b[0mRegion\u001b[0m\u001b[1;33m.\u001b[0m\u001b[0mprovince\u001b[0m\u001b[1;33m==\u001b[0m\u001b[1;34m\"Seoul\"\u001b[0m\u001b[1;33m]\u001b[0m\u001b[1;33m.\u001b[0m\u001b[0mreset_index\u001b[0m\u001b[1;33m(\u001b[0m\u001b[1;33m)\u001b[0m\u001b[1;33m.\u001b[0m\u001b[0mdrop\u001b[0m\u001b[1;33m(\u001b[0m\u001b[1;36m0\u001b[0m\u001b[1;33m)\u001b[0m\u001b[1;33m\u001b[0m\u001b[1;33m\u001b[0m\u001b[0m\n\u001b[0m\u001b[0;32m      2\u001b[0m \u001b[0mgyungi\u001b[0m \u001b[1;33m=\u001b[0m \u001b[0mRegion\u001b[0m\u001b[1;33m[\u001b[0m\u001b[0mRegion\u001b[0m\u001b[1;33m.\u001b[0m\u001b[0mprovince\u001b[0m\u001b[1;33m==\u001b[0m\u001b[1;34m\"Gyeonggi-do\"\u001b[0m\u001b[1;33m]\u001b[0m\u001b[1;33m.\u001b[0m\u001b[0mreset_index\u001b[0m\u001b[1;33m(\u001b[0m\u001b[1;33m)\u001b[0m\u001b[1;33m.\u001b[0m\u001b[0mdrop\u001b[0m\u001b[1;33m(\u001b[0m\u001b[1;36m0\u001b[0m\u001b[1;33m)\u001b[0m\u001b[1;33m\u001b[0m\u001b[1;33m\u001b[0m\u001b[0m\n\u001b[0;32m      3\u001b[0m \u001b[0mdaegu\u001b[0m \u001b[1;33m=\u001b[0m \u001b[0mRegion\u001b[0m\u001b[1;33m[\u001b[0m\u001b[0mRegion\u001b[0m\u001b[1;33m.\u001b[0m\u001b[0mprovince\u001b[0m\u001b[1;33m==\u001b[0m\u001b[1;34m\"Daegu\"\u001b[0m\u001b[1;33m]\u001b[0m\u001b[1;33m.\u001b[0m\u001b[0mreset_index\u001b[0m\u001b[1;33m(\u001b[0m\u001b[1;33m)\u001b[0m\u001b[1;33m.\u001b[0m\u001b[0mdrop\u001b[0m\u001b[1;33m(\u001b[0m\u001b[1;36m0\u001b[0m\u001b[1;33m)\u001b[0m\u001b[1;33m\u001b[0m\u001b[1;33m\u001b[0m\u001b[0m\n\u001b[0;32m      4\u001b[0m \u001b[1;33m\u001b[0m\u001b[0m\n\u001b[0;32m      5\u001b[0m \u001b[0mfig\u001b[0m \u001b[1;33m=\u001b[0m \u001b[0mgo\u001b[0m\u001b[1;33m.\u001b[0m\u001b[0mFigure\u001b[0m\u001b[1;33m(\u001b[0m\u001b[1;33m)\u001b[0m\u001b[1;33m\u001b[0m\u001b[1;33m\u001b[0m\u001b[0m\n",
      "\u001b[1;31mNameError\u001b[0m: name 'Region' is not defined"
     ]
    }
   ],
   "source": [
    "seoul = Region[Region.province==\"Seoul\"].reset_index().drop(0)\n",
    "gyungi = Region[Region.province==\"Gyeonggi-do\"].reset_index().drop(0)\n",
    "daegu = Region[Region.province==\"Daegu\"].reset_index().drop(0)\n",
    "\n",
    "fig = go.Figure()\n",
    "fig = make_subplots(rows=3, cols=1, subplot_titles=[\"Seoul\", \"Gyeonggi\", \"Daegu\"])\n",
    "\n",
    "fig.add_trace(go.Bar(x=seoul.city,\n",
    "                y=seoul.academy_ratio,\n",
    "                name = \"seoul\",\n",
    "                marker_color='Blue'\n",
    "                ),1, 1)\n",
    "# fig.update_layout(xaxis=dict(tickfont_size=10, tickangle = 45))\n",
    "        \n",
    "fig.add_trace(go.Bar(x=gyungi.city,\n",
    "                y=gyungi.academy_ratio,\n",
    "                name = \"gyungi\",\n",
    "                marker_color='Green'\n",
    "                ),2, 1)\n",
    "# fig.update_layout(xaxis=dict(tickfont_size=10, tickangle = 45))\n",
    "\n",
    "fig.add_trace(go.Bar(x=daegu.city,\n",
    "                y=daegu.academy_ratio,\n",
    "                name = \"daegu\",\n",
    "                marker_color='Red'\n",
    "                ),3, 1)\n",
    "\n",
    "fig.update_layout(\n",
    "    title='Academy Ratio several provinces')\n",
    "fig.show()"
   ]
  },
  {
   "cell_type": "code",
   "execution_count": null,
   "metadata": {},
   "outputs": [],
   "source": [
    "\n",
    "import plotly.graph_objects as go\n",
    "\n",
    "fig = go.Figure()\n",
    "fig.add_trace(go.Bar(x=Region.city,\n",
    "                y=Region.elderly_population_ratio,\n",
    "                name='elderly population ratio'\n",
    "                # marker_color='rgb(55, 83, 109)'\n",
    "                ))\n",
    "fig.add_trace(go.Bar(x=Region.city,\n",
    "                y=Region.elderly_alone_ratio,\n",
    "                name='elderly alone ratio',\n",
    "                marker_color='lightsalmon'\n",
    "                ))\n",
    "\n",
    "fig.update_layout(\n",
    "    title='Elderly Ratio All',\n",
    "    xaxis=dict(tickfont_size=14, tickangle = 45),\n",
    "    yaxis=dict(\n",
    "        title='Ratio (%)',\n",
    "        titlefont_size=16,\n",
    "        tickfont_size=14,\n",
    "    ),\n",
    "    legend=dict(\n",
    "        x=0.75,\n",
    "        y=1.0,\n",
    "        bgcolor='rgba(255, 255, 255, 0)',\n",
    "        bordercolor='rgba(255, 255, 255, 0)'\n",
    "    )\n",
    ")\n",
    "fig.show()"
   ]
  },
  {
   "cell_type": "code",
   "execution_count": null,
   "metadata": {},
   "outputs": [],
   "source": [
    "fig = go.Figure()\n",
    "fig.add_trace(go.Bar(x=seoul.city,\n",
    "                y=seoul.elderly_population_ratio,\n",
    "                name='elderly population ratio'\n",
    "                # marker_color='rgb(55, 83, 109)'\n",
    "                ))\n",
    "fig.add_trace(go.Bar(x=seoul.city,\n",
    "                y=seoul.elderly_alone_ratio,\n",
    "                name='elderly alone ratio',\n",
    "                marker_color='lightsalmon'\n",
    "                ))\n",
    "\n",
    "fig.update_layout(\n",
    "    title='Elderly Ratio in Seoul',\n",
    "    xaxis=dict(tickfont_size=14, tickangle = 45),\n",
    "    yaxis=dict(\n",
    "        title='Ratio (%)',\n",
    "        titlefont_size=16,\n",
    "        tickfont_size=14,\n",
    "    ),\n",
    "    legend=dict(\n",
    "        x=0.75,\n",
    "        y=1.0,\n",
    "        bgcolor='rgba(255, 255, 255, 0)',\n",
    "        bordercolor='rgba(255, 255, 255, 0)'\n",
    "    )\n",
    ")\n",
    "fig.show()"
   ]
  },
  {
   "cell_type": "code",
   "execution_count": null,
   "metadata": {},
   "outputs": [],
   "source": [
    "fig = go.Figure()\n",
    "fig.add_trace(go.Bar(x=daegu.city,\n",
    "                y=daegu.elderly_population_ratio,\n",
    "                name='elderly population ratio'\n",
    "                # marker_color='rgb(55, 83, 109)'\n",
    "                ))\n",
    "fig.add_trace(go.Bar(x=daegu.city,\n",
    "                y=daegu.elderly_alone_ratio,\n",
    "                name='elderly alone ratio',\n",
    "                marker_color='lightsalmon'\n",
    "                ))\n",
    "\n",
    "fig.update_layout(\n",
    "    title='Elderly Ratio in Daegu',\n",
    "    xaxis=dict(tickfont_size=14, tickangle = 45),\n",
    "    yaxis=dict(\n",
    "        title='Ratio (%)',\n",
    "        titlefont_size=16,\n",
    "        tickfont_size=14,\n",
    "    ),\n",
    "    legend=dict(\n",
    "        x=0.75,\n",
    "        y=1.0,\n",
    "        bgcolor='rgba(255, 255, 255, 0)',\n",
    "        bordercolor='rgba(255, 255, 255, 0)'\n",
    "    )\n",
    ")\n",
    "fig.show()"
   ]
  },
  {
   "cell_type": "markdown",
   "metadata": {},
   "source": [
    "### 2. Weather\n",
    "\n",
    "### 2-1. 온도 변화, 확진자수 증가 추세 (대구)"
   ]
  },
  {
   "cell_type": "code",
   "execution_count": null,
   "metadata": {},
   "outputs": [],
   "source": [
    "grouped = (Time.groupby(['date'])\n",
    "            .agg({'confirmed':'sum', 'deceased':'sum'})\n",
    "            .reset_index())\n",
    "\n",
    "daegu_weather = Weather[Weather.province==\"Daegu\"].reset_index()\n",
    "\n",
    "merged = pd.merge(grouped,daegu_weather.iloc[:,3:],\n",
    "        how='left',\n",
    "        on=('date')\n",
    "        )\n",
    "\n",
    "# Create figure with secondary y-axis\n",
    "fig = make_subplots(specs=[[{\"secondary_y\": True}]])\n",
    "\n",
    "# Add traces\n",
    "fig.add_trace(\n",
    "    go.Scatter(x=merged.date , y=merged.confirmed, name=\"Comfirmed\"), secondary_y=False)\n",
    "\n",
    "fig.add_trace(\n",
    "    go.Scatter(x=merged.date, y=merged.avg_temp, name=\"avg_temp\"), secondary_y=True)\n",
    "\n",
    "fig.add_trace(\n",
    "    go.Scatter(x=merged.date, y=merged.min_temp, name=\"min_temp\"), secondary_y=True)\n",
    "\n",
    "fig.add_trace(\n",
    "    go.Scatter(x=merged.date, y=merged.max_temp, name=\"max_temp\"), secondary_y=True)\n",
    "\n",
    "# Add figure title\n",
    "fig.update_layout(\n",
    "    title_text=\"Confirmed & Temp\")\n",
    "\n",
    "# Set x-axis title\n",
    "fig.update_xaxes(title_text=\"Date\")\n",
    "\n",
    "# Set y-axes\n",
    "fig.update_layout(\n",
    "    yaxis=dict(title=\"Confirmed\"),\n",
    "    yaxis2=dict(title=\"temp\")\n",
    ")\n",
    "\n",
    "fig.show()"
   ]
  },
  {
   "cell_type": "markdown",
   "metadata": {},
   "source": [
    "### 2-2. 나머지 기온 변수, 확진자수 증가 추세 (대구)"
   ]
  },
  {
   "cell_type": "code",
   "execution_count": null,
   "metadata": {},
   "outputs": [],
   "source": [
    "fig = px.scatter_matrix(merged[[\"confirmed\",\"deceased\",\"precipitation\",\"max_wind_speed\",\"most_wind_direction\",\"avg_relative_humidity\"]])\n",
    "fig.update_layout(\n",
    "    title='Weather Scatter Matrix')\n",
    "fig.show()"
   ]
  },
  {
   "cell_type": "markdown",
   "metadata": {},
   "source": [
    "- - -\n",
    "\n",
    "## Case + Patient Related\n",
    "\n",
    "### 1. Patient : 확진자 경로\n",
    "\n",
    "#### 경로의 색깔 : 확진자가 접촉한 사람 수에 따라서\n",
    "\n",
    "#### 접촉자 0 명 : 초록색\n",
    "\n",
    "#### 접촉자 1~10 명 : 파란색\n",
    "\n",
    "#### 접촉자 11~100명 : 노란색\n",
    "\n",
    "#### 접촉자 100 초과 : 빨간색\n",
    "\n",
    "#### 접촉자 수가 최다인 사람 : 검정색"
   ]
  },
  {
   "cell_type": "code",
   "execution_count": null,
   "metadata": {},
   "outputs": [],
   "source": [
    "contnum = PatientInfo.iloc[:,[0,12]]\n",
    "clr = []\n",
    "for i in range(len(contnum)) :\n",
    "    if contnum.contact_number[i] == 0 :\n",
    "        clr.append(\"green\")\n",
    "    elif contnum.contact_number[i] <= 10 :\n",
    "        clr.append(\"blue\")\n",
    "    elif contnum.contact_number[i] <= 100 :\n",
    "        clr.append(\"yellow\")\n",
    "    elif contnum.contact_number[i] == max(contnum.contact_number) :\n",
    "        clr.append(\"black\")\n",
    "    else : \n",
    "        clr.append(\"red\")\n",
    "contnum[\"color\"] = clr\n",
    "wcontnum = pd.merge(PatientRoute,contnum,\n",
    "        how ='left',\n",
    "        on = 'patient_id').fillna(0)\n",
    "route_geo = gpd.GeoDataFrame(wcontnum,geometry=gpd.points_from_xy(PatientRoute.longitude,PatientRoute.latitude))\n",
    "\n",
    "linerange = route_geo[route_geo['patient_id'] == route_geo['patient_id'].shift(1)].index\n",
    "linerange = linerange.drop(linerange[-1])\n",
    "lines = [ {\n",
    "                \"coordinates\": [\n",
    "                 [route_geo[\"longitude\"][i] , route_geo[\"latitude\"][i] ],\n",
    "                 [route_geo[\"longitude\"][i+1] , route_geo[\"latitude\"][i+1],]\n",
    "                   ],\n",
    "                \"dates\": [\n",
    "                 route_geo[\"date\"][i],\n",
    "                 route_geo[\"date\"][i+1]\n",
    "                   ],\n",
    "                \"color\": route_geo[\"color\"][i]\n",
    "                     } for i in linerange ] \n",
    "features = [\n",
    "     {\n",
    "         'type': 'Feature',\n",
    "         'geometry': {\n",
    "            'type': 'LineString',\n",
    "            'coordinates': line['coordinates'],\n",
    "                },\n",
    "         'properties': {\n",
    "            'times': line['dates'],\n",
    "            'style': {\n",
    "                'color' : line['color']\n",
    "            },\n",
    "            'icon' : 'circle',\n",
    "            'iconstyle':{\n",
    "                    'fillOpacity': 0.8,\n",
    "                    'stroke': 'true',\n",
    "                    'radius': 3\n",
    "                }\n",
    "                }\n",
    "        }\n",
    "        for line in lines\n",
    "    ]\n",
    "\n",
    "\n",
    "m = folium.Map(\n",
    "  location=[36.5053542,127.7043419],\n",
    "  zoom_start=8\n",
    ")\n",
    "plugins.TimestampedGeoJson({\n",
    "    'type': 'FeatureCollection',\n",
    "    'features': features,\n",
    "}, period='PT6H', add_last_point=True).add_to(m)\n",
    "m.save('with_color.html')\n",
    "m"
   ]
  },
  {
   "cell_type": "markdown",
   "metadata": {},
   "source": [
    "### 2. 시간에 따른 infection case 별 누적 확진자 수"
   ]
  },
  {
   "cell_type": "code",
   "execution_count": null,
   "metadata": {},
   "outputs": [],
   "source": [
    "inf_count = pd.DataFrame(PatientInfo.infection_case.value_counts())\n",
    "fig_0 = px.bar(inf_count,x=inf_count.index, y='infection_case')\n",
    "fig_0.show()"
   ]
  },
  {
   "cell_type": "code",
   "execution_count": null,
   "metadata": {},
   "outputs": [],
   "source": [
    "inf_case = PatientInfo.infection_case.unique()\n",
    "for i in range(len(inf_case)) :\n",
    "    globals()['case'+ str(i)] = PatientInfo[PatientInfo.infection_case == inf_case[i]]\n",
    "    globals()['case'+str(i)] = pd.DataFrame(globals()['case'+ str(i)].groupby('confirmed_date').count().cumsum().patient_id).reset_index()\n",
    "    globals()['case'+str(i)].columns = ['confirmed_date','case'+str(i)]   \n",
    "\n",
    "merged = case0\n",
    "for i in [x for x in range(len(inf_case)) if x != 0] :\n",
    "    merged = pd.merge(merged , globals()['case'+str(i)],how= 'outer',on='confirmed_date')\n",
    "merged = merged.sort_values(by = 'confirmed_date').reset_index()\n",
    "merged = merged.drop('index',axis=1)\n",
    "merged.columns = np.insert(inf_case,0,'confirmed_date')\n",
    "merged = merged.fillna(method='pad')\n",
    "merged = merged.fillna(0)\n",
    "merged = merged.set_index('confirmed_date')\n",
    "fig = merged.iplot(asFigure=True, kind='scatter')\n",
    "fig.show()"
   ]
  },
  {
   "cell_type": "markdown",
   "metadata": {},
   "source": [
    "#### overseas inflow 의 끝부분이 심상치않다 :)"
   ]
  },
  {
   "cell_type": "markdown",
   "metadata": {},
   "source": [
    "# ^^ 감사합니다. I hope COVID-19 situation will get better soon. ^^*~~"
   ]
  },
  {
   "cell_type": "markdown",
   "metadata": {},
   "source": [
    "# by 쇠똥구리"
   ]
  }
 ],
 "metadata": {
  "kernelspec": {
   "display_name": "Python 3",
   "language": "python",
   "name": "python3"
  },
  "language_info": {
   "codemirror_mode": {
    "name": "ipython",
    "version": 3
   },
   "file_extension": ".py",
   "mimetype": "text/x-python",
   "name": "python",
   "nbconvert_exporter": "python",
   "pygments_lexer": "ipython3",
   "version": "3.6.10"
  }
 },
 "nbformat": 4,
 "nbformat_minor": 4
}
