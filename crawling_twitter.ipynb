{
 "cells": [
  {
   "cell_type": "markdown",
   "metadata": {},
   "source": [
    "#달고나커피 #하루종일 #집콕(중) #COVID #코로나 #우한 #사회적거리두기 #마스크 #손씻기 "
   ]
  },
  {
   "cell_type": "code",
   "execution_count": 118,
   "metadata": {},
   "outputs": [],
   "source": [
    "keywords = ['달고나커피','하루종일','집콕','COVID','코로나','우한','사회적거리두기','마스크','손씻기']"
   ]
  },
  {
   "cell_type": "code",
   "execution_count": 1,
   "metadata": {},
   "outputs": [],
   "source": [
    "from bs4 import BeautifulSoup\n",
    "import requests\n",
    "from selenium import webdriver\n",
    "from selenium.webdriver.firefox.firefox_binary import  FirefoxBinary\n",
    "from selenium.webdriver.common.desired_capabilities import  DesiredCapabilities\n",
    "import time\n",
    "from selenium.webdriver.common.keys import Keys\n",
    "import datetime as dt\n",
    "from tqdm.notebook import tqdm\n",
    "import pandas as pd"
   ]
  },
  {
   "cell_type": "markdown",
   "metadata": {},
   "source": [
    "# 2월 데이터 (1)"
   ]
  },
  {
   "cell_type": "code",
   "execution_count": 35,
   "metadata": {},
   "outputs": [],
   "source": [
    "binary=FirefoxBinary('/Applications/Firefox.app/Contents/MacOS/firefox-bin')\n",
    "browser=webdriver.Firefox(executable_path='/Users/seonwoolim/Downloads/geckodriver',firefox_binary=binary)"
   ]
  },
  {
   "cell_type": "code",
   "execution_count": 36,
   "metadata": {},
   "outputs": [],
   "source": [
    "i = '코로나'"
   ]
  },
  {
   "cell_type": "code",
   "execution_count": 37,
   "metadata": {},
   "outputs": [],
   "source": [
    "startdate=dt.date(year=2020,month=2,day=1)\n",
    "untildate=dt.date(year=2020,month=2,day=2)\n",
    "enddate=dt.date(year=2020,month=2,day=10)\n",
    "totalfreq=[]\n",
    "while not enddate==startdate:\n",
    "    url='https://twitter.com/search?q='+i+' since%3A'+str(startdate)+'%20until%3A'+str(untildate)+'&src=typed_query'\n",
    "    browser.get(url)\n",
    "    time.sleep(5)\n",
    "    html = browser.page_source\n",
    "    soup=BeautifulSoup(html,'html.parser')\n",
    "    if len(soup.find_all('div','css-901oao r-111h2gw r-1qd0xha r-a023e6 r-16dba41 r-ad9z0x r-117bsoe r-bcqeeo r-q4m81j r-qvutc0')) > 0 :\n",
    "        break\n",
    "    lastHeight = browser.execute_script(\"return document.body.scrollHeight\")\n",
    "    while True:\n",
    "        dailyfreq={'Date':startdate}\n",
    "        wordfreq=0\n",
    "        tweets=soup.find_all('div','css-901oao r-jwli3a r-1qd0xha r-a023e6 r-16dba41 r-ad9z0x r-bcqeeo r-bnwqim r-qvutc0')\n",
    "        wordfreq+=len(tweets)\n",
    "        browser.execute_script(\"window.scrollTo(0, document.body.scrollHeight);\")\n",
    "        time.sleep(5)\n",
    "        newHeight = browser.execute_script(\"return document.body.scrollHeight\")\n",
    "        if newHeight != lastHeight:\n",
    "            html = browser.page_source\n",
    "            soup=BeautifulSoup(html,'html.parser')\n",
    "            tweets=soup.find_all(\"p\", {\"class\": \"TweetTextSize\"})\n",
    "            wordfreq=len(tweets)\n",
    "        else:\n",
    "            dailyfreq['Frequency']=wordfreq\n",
    "            wordfreq=0\n",
    "            totalfreq.append(dailyfreq)\n",
    "            startdate=untildate\n",
    "            untildate+=dt.timedelta(days=1)\n",
    "            dailyfreq={}\n",
    "            break\n",
    "        lastHeight = newHeight\n",
    "        "
   ]
  },
  {
   "cell_type": "code",
   "execution_count": 38,
   "metadata": {},
   "outputs": [
    {
     "data": {
      "text/plain": [
       "[{'Date': datetime.date(2020, 2, 1), 'Frequency': 17},\n",
       " {'Date': datetime.date(2020, 2, 2), 'Frequency': 13},\n",
       " {'Date': datetime.date(2020, 2, 3), 'Frequency': 17},\n",
       " {'Date': datetime.date(2020, 2, 4), 'Frequency': 20},\n",
       " {'Date': datetime.date(2020, 2, 5), 'Frequency': 21},\n",
       " {'Date': datetime.date(2020, 2, 6), 'Frequency': 18},\n",
       " {'Date': datetime.date(2020, 2, 7), 'Frequency': 17},\n",
       " {'Date': datetime.date(2020, 2, 8), 'Frequency': 14},\n",
       " {'Date': datetime.date(2020, 2, 9), 'Frequency': 9},\n",
       " {'Date': datetime.date(2020, 2, 10), 'Frequency': 8},\n",
       " {'Date': datetime.date(2020, 2, 11), 'Frequency': 13}]"
      ]
     },
     "execution_count": 38,
     "metadata": {},
     "output_type": "execute_result"
    }
   ],
   "source": [
    "totalfreq"
   ]
  },
  {
   "cell_type": "code",
   "execution_count": 39,
   "metadata": {},
   "outputs": [],
   "source": [
    "globals()[i] = pd.DataFrame(totalfreq)"
   ]
  },
  {
   "cell_type": "markdown",
   "metadata": {},
   "source": [
    "# 2월 데이터 (2)"
   ]
  },
  {
   "cell_type": "code",
   "execution_count": 41,
   "metadata": {},
   "outputs": [],
   "source": [
    "binary=FirefoxBinary('/Applications/Firefox.app/Contents/MacOS/firefox-bin')\n",
    "browser=webdriver.Firefox(executable_path='/Users/seonwoolim/Downloads/geckodriver',firefox_binary=binary)"
   ]
  },
  {
   "cell_type": "code",
   "execution_count": 42,
   "metadata": {},
   "outputs": [],
   "source": [
    "startdate=dt.date(year=2020,month=2,day=11)\n",
    "untildate=dt.date(year=2020,month=2,day=12)\n",
    "enddate=dt.date(year=2020,month=2,day=20)\n",
    "totalfreq=[]\n",
    "while not enddate==startdate:\n",
    "    url='https://twitter.com/search?q='+i+' since%3A'+str(startdate)+'%20until%3A'+str(untildate)+'&src=typed_query'\n",
    "    browser.get(url)\n",
    "    time.sleep(5)\n",
    "    html = browser.page_source\n",
    "    soup=BeautifulSoup(html,'html.parser')\n",
    "    if len(soup.find_all('div','css-901oao r-111h2gw r-1qd0xha r-a023e6 r-16dba41 r-ad9z0x r-117bsoe r-bcqeeo r-q4m81j r-qvutc0')) > 0 :\n",
    "        break\n",
    "    lastHeight = browser.execute_script(\"return document.body.scrollHeight\")\n",
    "    while True:\n",
    "        dailyfreq={'Date':startdate}\n",
    "        wordfreq=0\n",
    "        tweets=soup.find_all('div','css-901oao r-jwli3a r-1qd0xha r-a023e6 r-16dba41 r-ad9z0x r-bcqeeo r-bnwqim r-qvutc0')\n",
    "        wordfreq+=len(tweets)\n",
    "        browser.execute_script(\"window.scrollTo(0, document.body.scrollHeight);\")\n",
    "        time.sleep(5)\n",
    "        newHeight = browser.execute_script(\"return document.body.scrollHeight\")\n",
    "        if newHeight != lastHeight:\n",
    "            html = browser.page_source\n",
    "            soup=BeautifulSoup(html,'html.parser')\n",
    "            tweets=soup.find_all(\"p\", {\"class\": \"TweetTextSize\"})\n",
    "            wordfreq=len(tweets)\n",
    "        else:\n",
    "            dailyfreq['Frequency']=wordfreq\n",
    "            wordfreq=0\n",
    "            totalfreq.append(dailyfreq)\n",
    "            startdate=untildate\n",
    "            untildate+=dt.timedelta(days=1)\n",
    "            dailyfreq={}\n",
    "            break\n",
    "        lastHeight = newHeight"
   ]
  },
  {
   "cell_type": "code",
   "execution_count": 43,
   "metadata": {},
   "outputs": [
    {
     "data": {
      "text/plain": [
       "[{'Date': datetime.date(2020, 2, 11), 'Frequency': 0},\n",
       " {'Date': datetime.date(2020, 2, 12), 'Frequency': 16},\n",
       " {'Date': datetime.date(2020, 2, 13), 'Frequency': 0},\n",
       " {'Date': datetime.date(2020, 2, 14), 'Frequency': 15},\n",
       " {'Date': datetime.date(2020, 2, 15), 'Frequency': 15},\n",
       " {'Date': datetime.date(2020, 2, 16), 'Frequency': 15},\n",
       " {'Date': datetime.date(2020, 2, 17), 'Frequency': 0},\n",
       " {'Date': datetime.date(2020, 2, 18), 'Frequency': 14},\n",
       " {'Date': datetime.date(2020, 2, 19), 'Frequency': 0}]"
      ]
     },
     "execution_count": 43,
     "metadata": {},
     "output_type": "execute_result"
    }
   ],
   "source": [
    "totalfreq"
   ]
  },
  {
   "cell_type": "code",
   "execution_count": 44,
   "metadata": {},
   "outputs": [],
   "source": [
    "globals()[i] = pd.concat([globals()[i],pd.DataFrame(totalfreq)],ignore_index=True)"
   ]
  },
  {
   "cell_type": "markdown",
   "metadata": {},
   "source": [
    "# 2월 데이터 (3)"
   ]
  },
  {
   "cell_type": "code",
   "execution_count": 46,
   "metadata": {},
   "outputs": [],
   "source": [
    "binary=FirefoxBinary('/Applications/Firefox.app/Contents/MacOS/firefox-bin')\n",
    "browser=webdriver.Firefox(executable_path='/Users/seonwoolim/Downloads/geckodriver',firefox_binary=binary)"
   ]
  },
  {
   "cell_type": "code",
   "execution_count": 47,
   "metadata": {},
   "outputs": [],
   "source": [
    "startdate=dt.date(year=2020,month=2,day=20)\n",
    "untildate=dt.date(year=2020,month=2,day=21)\n",
    "enddate=dt.date(year=2020,month=2,day=29)\n",
    "totalfreq=[]\n",
    "while not enddate==startdate:\n",
    "    url='https://twitter.com/search?q='+i+' since%3A'+str(startdate)+'%20until%3A'+str(untildate)+'&src=typed_query'\n",
    "    browser.get(url)\n",
    "    time.sleep(5)\n",
    "    html = browser.page_source\n",
    "    soup=BeautifulSoup(html,'html.parser')\n",
    "    if len(soup.find_all('div','css-901oao r-111h2gw r-1qd0xha r-a023e6 r-16dba41 r-ad9z0x r-117bsoe r-bcqeeo r-q4m81j r-qvutc0')) > 0 :\n",
    "        break\n",
    "    lastHeight = browser.execute_script(\"return document.body.scrollHeight\")\n",
    "    while True:\n",
    "        dailyfreq={'Date':startdate}\n",
    "        wordfreq=0\n",
    "        tweets=soup.find_all('div','css-901oao r-jwli3a r-1qd0xha r-a023e6 r-16dba41 r-ad9z0x r-bcqeeo r-bnwqim r-qvutc0')\n",
    "        wordfreq+=len(tweets)\n",
    "        browser.execute_script(\"window.scrollTo(0, document.body.scrollHeight);\")\n",
    "        time.sleep(5)\n",
    "        newHeight = browser.execute_script(\"return document.body.scrollHeight\")\n",
    "        if newHeight != lastHeight:\n",
    "            html = browser.page_source\n",
    "            soup=BeautifulSoup(html,'html.parser')\n",
    "            tweets=soup.find_all(\"p\", {\"class\": \"TweetTextSize\"})\n",
    "            wordfreq=len(tweets)\n",
    "        else:\n",
    "            dailyfreq['Frequency']=wordfreq\n",
    "            wordfreq=0\n",
    "            totalfreq.append(dailyfreq)\n",
    "            startdate=untildate\n",
    "            untildate+=dt.timedelta(days=1)\n",
    "            dailyfreq={}\n",
    "            break\n",
    "        lastHeight = newHeight"
   ]
  },
  {
   "cell_type": "code",
   "execution_count": 48,
   "metadata": {},
   "outputs": [
    {
     "data": {
      "text/plain": [
       "[{'Date': datetime.date(2020, 2, 20), 'Frequency': 0},\n",
       " {'Date': datetime.date(2020, 2, 21), 'Frequency': 15},\n",
       " {'Date': datetime.date(2020, 2, 22), 'Frequency': 0},\n",
       " {'Date': datetime.date(2020, 2, 23), 'Frequency': 3},\n",
       " {'Date': datetime.date(2020, 2, 24), 'Frequency': 0},\n",
       " {'Date': datetime.date(2020, 2, 25), 'Frequency': 7},\n",
       " {'Date': datetime.date(2020, 2, 26), 'Frequency': 0},\n",
       " {'Date': datetime.date(2020, 2, 27), 'Frequency': 7},\n",
       " {'Date': datetime.date(2020, 2, 28), 'Frequency': 0}]"
      ]
     },
     "execution_count": 48,
     "metadata": {},
     "output_type": "execute_result"
    }
   ],
   "source": [
    "totalfreq"
   ]
  },
  {
   "cell_type": "code",
   "execution_count": 49,
   "metadata": {},
   "outputs": [],
   "source": [
    "globals()[i] = pd.concat([globals()[i],pd.DataFrame(totalfreq)],ignore_index=True)"
   ]
  },
  {
   "cell_type": "markdown",
   "metadata": {},
   "source": [
    "# 3월 데이터 (1)"
   ]
  },
  {
   "cell_type": "code",
   "execution_count": 50,
   "metadata": {},
   "outputs": [],
   "source": [
    "binary=FirefoxBinary('/Applications/Firefox.app/Contents/MacOS/firefox-bin')\n",
    "browser=webdriver.Firefox(executable_path='/Users/seonwoolim/Downloads/geckodriver',firefox_binary=binary)"
   ]
  },
  {
   "cell_type": "code",
   "execution_count": 51,
   "metadata": {},
   "outputs": [],
   "source": [
    "startdate=dt.date(year=2020,month=3,day=1)\n",
    "untildate=dt.date(year=2020,month=3,day=2)\n",
    "enddate=dt.date(year=2020,month=3,day=10)\n",
    "totalfreq=[]\n",
    "while not enddate==startdate:\n",
    "    url='https://twitter.com/search?q='+i+' since%3A'+str(startdate)+'%20until%3A'+str(untildate)+'&src=typed_query'\n",
    "    browser.get(url)\n",
    "    time.sleep(5)\n",
    "    html = browser.page_source\n",
    "    soup=BeautifulSoup(html,'html.parser')\n",
    "    if len(soup.find_all('div','css-901oao r-111h2gw r-1qd0xha r-a023e6 r-16dba41 r-ad9z0x r-117bsoe r-bcqeeo r-q4m81j r-qvutc0')) > 0 :\n",
    "        break\n",
    "    lastHeight = browser.execute_script(\"return document.body.scrollHeight\")\n",
    "    while True:\n",
    "        dailyfreq={'Date':startdate}\n",
    "        wordfreq=0\n",
    "        tweets=soup.find_all('div','css-901oao r-jwli3a r-1qd0xha r-a023e6 r-16dba41 r-ad9z0x r-bcqeeo r-bnwqim r-qvutc0')\n",
    "        wordfreq+=len(tweets)\n",
    "        browser.execute_script(\"window.scrollTo(0, document.body.scrollHeight);\")\n",
    "        time.sleep(5)\n",
    "        newHeight = browser.execute_script(\"return document.body.scrollHeight\")\n",
    "        if newHeight != lastHeight:\n",
    "            html = browser.page_source\n",
    "            soup=BeautifulSoup(html,'html.parser')\n",
    "            tweets=soup.find_all(\"p\", {\"class\": \"TweetTextSize\"})\n",
    "            wordfreq=len(tweets)\n",
    "        else:\n",
    "            dailyfreq['Frequency']=wordfreq\n",
    "            wordfreq=0\n",
    "            totalfreq.append(dailyfreq)\n",
    "            startdate=untildate\n",
    "            untildate+=dt.timedelta(days=1)\n",
    "            dailyfreq={}\n",
    "            break\n",
    "        lastHeight = newHeight\n",
    "        "
   ]
  },
  {
   "cell_type": "code",
   "execution_count": 52,
   "metadata": {},
   "outputs": [
    {
     "data": {
      "text/plain": [
       "[{'Date': datetime.date(2020, 3, 1), 'Frequency': 0},\n",
       " {'Date': datetime.date(2020, 3, 2), 'Frequency': 10},\n",
       " {'Date': datetime.date(2020, 3, 3), 'Frequency': 0},\n",
       " {'Date': datetime.date(2020, 3, 4), 'Frequency': 4},\n",
       " {'Date': datetime.date(2020, 3, 5), 'Frequency': 14},\n",
       " {'Date': datetime.date(2020, 3, 6), 'Frequency': 0},\n",
       " {'Date': datetime.date(2020, 3, 7), 'Frequency': 4},\n",
       " {'Date': datetime.date(2020, 3, 8), 'Frequency': 0},\n",
       " {'Date': datetime.date(2020, 3, 9), 'Frequency': 17}]"
      ]
     },
     "execution_count": 52,
     "metadata": {},
     "output_type": "execute_result"
    }
   ],
   "source": [
    "totalfreq"
   ]
  },
  {
   "cell_type": "code",
   "execution_count": 53,
   "metadata": {},
   "outputs": [],
   "source": [
    "globals()[i] = pd.concat([globals()[i],pd.DataFrame(totalfreq)],ignore_index=True)"
   ]
  },
  {
   "cell_type": "markdown",
   "metadata": {},
   "source": [
    "# 3월 데이터 (2)"
   ]
  },
  {
   "cell_type": "code",
   "execution_count": 54,
   "metadata": {},
   "outputs": [],
   "source": [
    "binary=FirefoxBinary('/Applications/Firefox.app/Contents/MacOS/firefox-bin')\n",
    "browser=webdriver.Firefox(executable_path='/Users/seonwoolim/Downloads/geckodriver',firefox_binary=binary)"
   ]
  },
  {
   "cell_type": "code",
   "execution_count": 55,
   "metadata": {},
   "outputs": [],
   "source": [
    "startdate=dt.date(year=2020,month=3,day=11)\n",
    "untildate=dt.date(year=2020,month=3,day=12)\n",
    "enddate=dt.date(year=2020,month=3,day=20)\n",
    "totalfreq=[]\n",
    "while not enddate==startdate:\n",
    "    url='https://twitter.com/search?q='+i+' since%3A'+str(startdate)+'%20until%3A'+str(untildate)+'&src=typed_query'\n",
    "    browser.get(url)\n",
    "    time.sleep(5)\n",
    "    html = browser.page_source\n",
    "    soup=BeautifulSoup(html,'html.parser')\n",
    "    if len(soup.find_all('div','css-901oao r-111h2gw r-1qd0xha r-a023e6 r-16dba41 r-ad9z0x r-117bsoe r-bcqeeo r-q4m81j r-qvutc0')) > 0 :\n",
    "        break\n",
    "    lastHeight = browser.execute_script(\"return document.body.scrollHeight\")\n",
    "    while True:\n",
    "        dailyfreq={'Date':startdate}\n",
    "        wordfreq=0\n",
    "        tweets=soup.find_all('div','css-901oao r-jwli3a r-1qd0xha r-a023e6 r-16dba41 r-ad9z0x r-bcqeeo r-bnwqim r-qvutc0')\n",
    "        wordfreq+=len(tweets)\n",
    "        browser.execute_script(\"window.scrollTo(0, document.body.scrollHeight);\")\n",
    "        time.sleep(5)\n",
    "        newHeight = browser.execute_script(\"return document.body.scrollHeight\")\n",
    "        if newHeight != lastHeight:\n",
    "            html = browser.page_source\n",
    "            soup=BeautifulSoup(html,'html.parser')\n",
    "            tweets=soup.find_all(\"p\", {\"class\": \"TweetTextSize\"})\n",
    "            wordfreq=len(tweets)\n",
    "        else:\n",
    "            dailyfreq['Frequency']=wordfreq\n",
    "            wordfreq=0\n",
    "            totalfreq.append(dailyfreq)\n",
    "            startdate=untildate\n",
    "            untildate+=dt.timedelta(days=1)\n",
    "            dailyfreq={}\n",
    "            break\n",
    "        lastHeight = newHeight\n",
    "        "
   ]
  },
  {
   "cell_type": "code",
   "execution_count": 56,
   "metadata": {},
   "outputs": [
    {
     "data": {
      "text/plain": [
       "[{'Date': datetime.date(2020, 3, 11), 'Frequency': 0},\n",
       " {'Date': datetime.date(2020, 3, 12), 'Frequency': 8},\n",
       " {'Date': datetime.date(2020, 3, 13), 'Frequency': 16},\n",
       " {'Date': datetime.date(2020, 3, 14), 'Frequency': 14},\n",
       " {'Date': datetime.date(2020, 3, 15), 'Frequency': 0},\n",
       " {'Date': datetime.date(2020, 3, 16), 'Frequency': 7},\n",
       " {'Date': datetime.date(2020, 3, 17), 'Frequency': 18},\n",
       " {'Date': datetime.date(2020, 3, 18), 'Frequency': 0},\n",
       " {'Date': datetime.date(2020, 3, 19), 'Frequency': 15}]"
      ]
     },
     "execution_count": 56,
     "metadata": {},
     "output_type": "execute_result"
    }
   ],
   "source": [
    "totalfreq"
   ]
  },
  {
   "cell_type": "code",
   "execution_count": 57,
   "metadata": {},
   "outputs": [],
   "source": [
    "globals()[i] = pd.concat([globals()[i],pd.DataFrame(totalfreq)],ignore_index=True)"
   ]
  },
  {
   "cell_type": "markdown",
   "metadata": {},
   "source": [
    "# 3월 데이터(after error2)"
   ]
  },
  {
   "cell_type": "code",
   "execution_count": 58,
   "metadata": {},
   "outputs": [],
   "source": [
    "binary=FirefoxBinary('/Applications/Firefox.app/Contents/MacOS/firefox-bin')\n",
    "browser=webdriver.Firefox(executable_path='/Users/seonwoolim/Downloads/geckodriver',firefox_binary=binary)"
   ]
  },
  {
   "cell_type": "code",
   "execution_count": 60,
   "metadata": {},
   "outputs": [
    {
     "ename": "InvalidArgumentException",
     "evalue": "Message: lone leading surrogate in hex escape at line 1 column 112634\n",
     "output_type": "error",
     "traceback": [
      "\u001b[0;31m---------------------------------------------------------------------------\u001b[0m",
      "\u001b[0;31mInvalidArgumentException\u001b[0m                  Traceback (most recent call last)",
      "\u001b[0;32m<ipython-input-60-2dfc127a3711>\u001b[0m in \u001b[0;36m<module>\u001b[0;34m\u001b[0m\n\u001b[1;32m      7\u001b[0m     \u001b[0mbrowser\u001b[0m\u001b[0;34m.\u001b[0m\u001b[0mget\u001b[0m\u001b[0;34m(\u001b[0m\u001b[0murl\u001b[0m\u001b[0;34m)\u001b[0m\u001b[0;34m\u001b[0m\u001b[0;34m\u001b[0m\u001b[0m\n\u001b[1;32m      8\u001b[0m     \u001b[0mtime\u001b[0m\u001b[0;34m.\u001b[0m\u001b[0msleep\u001b[0m\u001b[0;34m(\u001b[0m\u001b[0;36m5\u001b[0m\u001b[0;34m)\u001b[0m\u001b[0;34m\u001b[0m\u001b[0;34m\u001b[0m\u001b[0m\n\u001b[0;32m----> 9\u001b[0;31m     \u001b[0mhtml\u001b[0m \u001b[0;34m=\u001b[0m \u001b[0mbrowser\u001b[0m\u001b[0;34m.\u001b[0m\u001b[0mpage_source\u001b[0m\u001b[0;34m\u001b[0m\u001b[0;34m\u001b[0m\u001b[0m\n\u001b[0m\u001b[1;32m     10\u001b[0m     \u001b[0msoup\u001b[0m\u001b[0;34m=\u001b[0m\u001b[0mBeautifulSoup\u001b[0m\u001b[0;34m(\u001b[0m\u001b[0mhtml\u001b[0m\u001b[0;34m,\u001b[0m\u001b[0;34m'html.parser'\u001b[0m\u001b[0;34m)\u001b[0m\u001b[0;34m\u001b[0m\u001b[0;34m\u001b[0m\u001b[0m\n\u001b[1;32m     11\u001b[0m     \u001b[0;32mif\u001b[0m \u001b[0mlen\u001b[0m\u001b[0;34m(\u001b[0m\u001b[0msoup\u001b[0m\u001b[0;34m.\u001b[0m\u001b[0mfind_all\u001b[0m\u001b[0;34m(\u001b[0m\u001b[0;34m'div'\u001b[0m\u001b[0;34m,\u001b[0m\u001b[0;34m'css-901oao r-111h2gw r-1qd0xha r-a023e6 r-16dba41 r-ad9z0x r-117bsoe r-bcqeeo r-q4m81j r-qvutc0'\u001b[0m\u001b[0;34m)\u001b[0m\u001b[0;34m)\u001b[0m \u001b[0;34m>\u001b[0m \u001b[0;36m0\u001b[0m \u001b[0;34m:\u001b[0m\u001b[0;34m\u001b[0m\u001b[0;34m\u001b[0m\u001b[0m\n",
      "\u001b[0;32m~/anaconda3/lib/python3.7/site-packages/selenium/webdriver/remote/webdriver.py\u001b[0m in \u001b[0;36mpage_source\u001b[0;34m(self)\u001b[0m\n\u001b[1;32m    677\u001b[0m             \u001b[0mdriver\u001b[0m\u001b[0;34m.\u001b[0m\u001b[0mpage_source\u001b[0m\u001b[0;34m\u001b[0m\u001b[0;34m\u001b[0m\u001b[0m\n\u001b[1;32m    678\u001b[0m         \"\"\"\n\u001b[0;32m--> 679\u001b[0;31m         \u001b[0;32mreturn\u001b[0m \u001b[0mself\u001b[0m\u001b[0;34m.\u001b[0m\u001b[0mexecute\u001b[0m\u001b[0;34m(\u001b[0m\u001b[0mCommand\u001b[0m\u001b[0;34m.\u001b[0m\u001b[0mGET_PAGE_SOURCE\u001b[0m\u001b[0;34m)\u001b[0m\u001b[0;34m[\u001b[0m\u001b[0;34m'value'\u001b[0m\u001b[0;34m]\u001b[0m\u001b[0;34m\u001b[0m\u001b[0;34m\u001b[0m\u001b[0m\n\u001b[0m\u001b[1;32m    680\u001b[0m \u001b[0;34m\u001b[0m\u001b[0m\n\u001b[1;32m    681\u001b[0m     \u001b[0;32mdef\u001b[0m \u001b[0mclose\u001b[0m\u001b[0;34m(\u001b[0m\u001b[0mself\u001b[0m\u001b[0;34m)\u001b[0m\u001b[0;34m:\u001b[0m\u001b[0;34m\u001b[0m\u001b[0;34m\u001b[0m\u001b[0m\n",
      "\u001b[0;32m~/anaconda3/lib/python3.7/site-packages/selenium/webdriver/remote/webdriver.py\u001b[0m in \u001b[0;36mexecute\u001b[0;34m(self, driver_command, params)\u001b[0m\n\u001b[1;32m    319\u001b[0m         \u001b[0mresponse\u001b[0m \u001b[0;34m=\u001b[0m \u001b[0mself\u001b[0m\u001b[0;34m.\u001b[0m\u001b[0mcommand_executor\u001b[0m\u001b[0;34m.\u001b[0m\u001b[0mexecute\u001b[0m\u001b[0;34m(\u001b[0m\u001b[0mdriver_command\u001b[0m\u001b[0;34m,\u001b[0m \u001b[0mparams\u001b[0m\u001b[0;34m)\u001b[0m\u001b[0;34m\u001b[0m\u001b[0;34m\u001b[0m\u001b[0m\n\u001b[1;32m    320\u001b[0m         \u001b[0;32mif\u001b[0m \u001b[0mresponse\u001b[0m\u001b[0;34m:\u001b[0m\u001b[0;34m\u001b[0m\u001b[0;34m\u001b[0m\u001b[0m\n\u001b[0;32m--> 321\u001b[0;31m             \u001b[0mself\u001b[0m\u001b[0;34m.\u001b[0m\u001b[0merror_handler\u001b[0m\u001b[0;34m.\u001b[0m\u001b[0mcheck_response\u001b[0m\u001b[0;34m(\u001b[0m\u001b[0mresponse\u001b[0m\u001b[0;34m)\u001b[0m\u001b[0;34m\u001b[0m\u001b[0;34m\u001b[0m\u001b[0m\n\u001b[0m\u001b[1;32m    322\u001b[0m             response['value'] = self._unwrap_value(\n\u001b[1;32m    323\u001b[0m                 response.get('value', None))\n",
      "\u001b[0;32m~/anaconda3/lib/python3.7/site-packages/selenium/webdriver/remote/errorhandler.py\u001b[0m in \u001b[0;36mcheck_response\u001b[0;34m(self, response)\u001b[0m\n\u001b[1;32m    240\u001b[0m                 \u001b[0malert_text\u001b[0m \u001b[0;34m=\u001b[0m \u001b[0mvalue\u001b[0m\u001b[0;34m[\u001b[0m\u001b[0;34m'alert'\u001b[0m\u001b[0;34m]\u001b[0m\u001b[0;34m.\u001b[0m\u001b[0mget\u001b[0m\u001b[0;34m(\u001b[0m\u001b[0;34m'text'\u001b[0m\u001b[0;34m)\u001b[0m\u001b[0;34m\u001b[0m\u001b[0;34m\u001b[0m\u001b[0m\n\u001b[1;32m    241\u001b[0m             \u001b[0;32mraise\u001b[0m \u001b[0mexception_class\u001b[0m\u001b[0;34m(\u001b[0m\u001b[0mmessage\u001b[0m\u001b[0;34m,\u001b[0m \u001b[0mscreen\u001b[0m\u001b[0;34m,\u001b[0m \u001b[0mstacktrace\u001b[0m\u001b[0;34m,\u001b[0m \u001b[0malert_text\u001b[0m\u001b[0;34m)\u001b[0m\u001b[0;34m\u001b[0m\u001b[0;34m\u001b[0m\u001b[0m\n\u001b[0;32m--> 242\u001b[0;31m         \u001b[0;32mraise\u001b[0m \u001b[0mexception_class\u001b[0m\u001b[0;34m(\u001b[0m\u001b[0mmessage\u001b[0m\u001b[0;34m,\u001b[0m \u001b[0mscreen\u001b[0m\u001b[0;34m,\u001b[0m \u001b[0mstacktrace\u001b[0m\u001b[0;34m)\u001b[0m\u001b[0;34m\u001b[0m\u001b[0;34m\u001b[0m\u001b[0m\n\u001b[0m\u001b[1;32m    243\u001b[0m \u001b[0;34m\u001b[0m\u001b[0m\n\u001b[1;32m    244\u001b[0m     \u001b[0;32mdef\u001b[0m \u001b[0m_value_or_default\u001b[0m\u001b[0;34m(\u001b[0m\u001b[0mself\u001b[0m\u001b[0;34m,\u001b[0m \u001b[0mobj\u001b[0m\u001b[0;34m,\u001b[0m \u001b[0mkey\u001b[0m\u001b[0;34m,\u001b[0m \u001b[0mdefault\u001b[0m\u001b[0;34m)\u001b[0m\u001b[0;34m:\u001b[0m\u001b[0;34m\u001b[0m\u001b[0;34m\u001b[0m\u001b[0m\n",
      "\u001b[0;31mInvalidArgumentException\u001b[0m: Message: lone leading surrogate in hex escape at line 1 column 112634\n"
     ]
    }
   ],
   "source": [
    "startdate=dt.date(year=2020,month=3,day=20)\n",
    "untildate=dt.date(year=2020,month=3,day=21)\n",
    "enddate=dt.date(year=2020,month=3,day=31)\n",
    "totalfreq=[]\n",
    "while not enddate==startdate:\n",
    "    url='https://twitter.com/search?q='+i+' since%3A'+str(startdate)+'%20until%3A'+str(untildate)+'&src=typed_query'\n",
    "    browser.get(url)\n",
    "    time.sleep(5)\n",
    "    html = browser.page_source\n",
    "    soup=BeautifulSoup(html,'html.parser')\n",
    "    if len(soup.find_all('div','css-901oao r-111h2gw r-1qd0xha r-a023e6 r-16dba41 r-ad9z0x r-117bsoe r-bcqeeo r-q4m81j r-qvutc0')) > 0 :\n",
    "        break\n",
    "    lastHeight = browser.execute_script(\"return document.body.scrollHeight\")\n",
    "    while True:\n",
    "        dailyfreq={'Date':startdate}\n",
    "        wordfreq=0\n",
    "        tweets=soup.find_all('div','css-901oao r-jwli3a r-1qd0xha r-a023e6 r-16dba41 r-ad9z0x r-bcqeeo r-bnwqim r-qvutc0')\n",
    "        wordfreq+=len(tweets)\n",
    "        browser.execute_script(\"window.scrollTo(0, document.body.scrollHeight);\")\n",
    "        time.sleep(5)\n",
    "        newHeight = browser.execute_script(\"return document.body.scrollHeight\")\n",
    "        if newHeight != lastHeight:\n",
    "            html = browser.page_source\n",
    "            soup=BeautifulSoup(html,'html.parser')\n",
    "            tweets=soup.find_all(\"p\", {\"class\": \"TweetTextSize\"})\n",
    "            wordfreq=len(tweets)\n",
    "        else:\n",
    "            dailyfreq['Frequency']=wordfreq\n",
    "            wordfreq=0\n",
    "            totalfreq.append(dailyfreq)\n",
    "            startdate=untildate\n",
    "            untildate+=dt.timedelta(days=1)\n",
    "            dailyfreq={}\n",
    "            break\n",
    "        lastHeight = newHeight\n",
    "        "
   ]
  },
  {
   "cell_type": "code",
   "execution_count": 61,
   "metadata": {},
   "outputs": [
    {
     "data": {
      "text/plain": [
       "[{'Date': datetime.date(2020, 3, 20), 'Frequency': 11}]"
      ]
     },
     "execution_count": 61,
     "metadata": {},
     "output_type": "execute_result"
    }
   ],
   "source": [
    "totalfreq"
   ]
  },
  {
   "cell_type": "code",
   "execution_count": 62,
   "metadata": {},
   "outputs": [],
   "source": [
    "globals()[i] = pd.concat([globals()[i],pd.DataFrame(totalfreq)],ignore_index=True)"
   ]
  },
  {
   "cell_type": "markdown",
   "metadata": {},
   "source": [
    "# 4월 데이터 (before error)"
   ]
  },
  {
   "cell_type": "code",
   "execution_count": 25,
   "metadata": {},
   "outputs": [],
   "source": [
    "binary=FirefoxBinary('/Applications/Firefox.app/Contents/MacOS/firefox-bin')\n",
    "browser=webdriver.Firefox(executable_path='/Users/seonwoolim/Downloads/geckodriver',firefox_binary=binary)"
   ]
  },
  {
   "cell_type": "code",
   "execution_count": 26,
   "metadata": {},
   "outputs": [],
   "source": [
    "startdate=dt.date(year=2020,month=4,day=1)\n",
    "untildate=dt.date(year=2020,month=4,day=2)\n",
    "enddate=dt.date(year=2020,month=4,day=10)\n",
    "totalfreq=[]\n",
    "while not enddate==startdate:\n",
    "    url='https://twitter.com/search?q='+i+' since%3A'+str(startdate)+'%20until%3A'+str(untildate)+'&src=typed_query'\n",
    "    browser.get(url)\n",
    "    time.sleep(5)\n",
    "    html = browser.page_source\n",
    "    soup=BeautifulSoup(html,'html.parser')\n",
    "    if len(soup.find_all('div','css-901oao r-111h2gw r-1qd0xha r-a023e6 r-16dba41 r-ad9z0x r-117bsoe r-bcqeeo r-q4m81j r-qvutc0')) > 0 :\n",
    "        break\n",
    "    lastHeight = browser.execute_script(\"return document.body.scrollHeight\")\n",
    "    while True:\n",
    "        dailyfreq={'Date':startdate}\n",
    "        wordfreq=0\n",
    "        tweets=soup.find_all('div','css-901oao r-jwli3a r-1qd0xha r-a023e6 r-16dba41 r-ad9z0x r-bcqeeo r-bnwqim r-qvutc0')\n",
    "        wordfreq+=len(tweets)\n",
    "        browser.execute_script(\"window.scrollTo(0, document.body.scrollHeight);\")\n",
    "        time.sleep(5)\n",
    "        newHeight = browser.execute_script(\"return document.body.scrollHeight\")\n",
    "        if newHeight != lastHeight:\n",
    "            html = browser.page_source\n",
    "            soup=BeautifulSoup(html,'html.parser')\n",
    "            tweets=soup.find_all(\"p\", {\"class\": \"TweetTextSize\"})\n",
    "            wordfreq=len(tweets)\n",
    "        else:\n",
    "            dailyfreq['Frequency']=wordfreq\n",
    "            wordfreq=0\n",
    "            totalfreq.append(dailyfreq)\n",
    "            startdate=untildate\n",
    "            untildate+=dt.timedelta(days=1)\n",
    "            dailyfreq={}\n",
    "            break\n",
    "        lastHeight = newHeight\n",
    "        "
   ]
  },
  {
   "cell_type": "code",
   "execution_count": 27,
   "metadata": {},
   "outputs": [
    {
     "data": {
      "text/plain": [
       "[{'Date': datetime.date(2020, 3, 31), 'Frequency': 0},\n",
       " {'Date': datetime.date(2020, 4, 1), 'Frequency': 12},\n",
       " {'Date': datetime.date(2020, 4, 2), 'Frequency': 10},\n",
       " {'Date': datetime.date(2020, 4, 3), 'Frequency': 22},\n",
       " {'Date': datetime.date(2020, 4, 4), 'Frequency': 12},\n",
       " {'Date': datetime.date(2020, 4, 5), 'Frequency': 12},\n",
       " {'Date': datetime.date(2020, 4, 6), 'Frequency': 9},\n",
       " {'Date': datetime.date(2020, 4, 7), 'Frequency': 19},\n",
       " {'Date': datetime.date(2020, 4, 8), 'Frequency': 16},\n",
       " {'Date': datetime.date(2020, 4, 9), 'Frequency': 18},\n",
       " {'Date': datetime.date(2020, 4, 10), 'Frequency': 18},\n",
       " {'Date': datetime.date(2020, 4, 11), 'Frequency': 17},\n",
       " {'Date': datetime.date(2020, 4, 12), 'Frequency': 12}]"
      ]
     },
     "execution_count": 27,
     "metadata": {},
     "output_type": "execute_result"
    }
   ],
   "source": [
    "totalfreq"
   ]
  },
  {
   "cell_type": "code",
   "execution_count": 28,
   "metadata": {},
   "outputs": [],
   "source": [
    "globals()[i] = pd.concat([globals()[i],pd.DataFrame(totalfreq)],ignore_index=True)"
   ]
  },
  {
   "cell_type": "markdown",
   "metadata": {},
   "source": [
    "# 4월 데이터 (after error)"
   ]
  },
  {
   "cell_type": "code",
   "execution_count": 29,
   "metadata": {},
   "outputs": [],
   "source": [
    "binary=FirefoxBinary('/Applications/Firefox.app/Contents/MacOS/firefox-bin')\n",
    "browser=webdriver.Firefox(executable_path='/Users/seonwoolim/Downloads/geckodriver',firefox_binary=binary)"
   ]
  },
  {
   "cell_type": "code",
   "execution_count": 30,
   "metadata": {},
   "outputs": [],
   "source": [
    "startdate=dt.date(year=2020,month=4,day=11)\n",
    "untildate=dt.date(year=2020,month=4,day=12)\n",
    "enddate=dt.date(year=2020,month=4,day=18)\n",
    "totalfreq=[]\n",
    "while not enddate==startdate:\n",
    "    url='https://twitter.com/search?q='+i+' since%3A'+str(startdate)+'%20until%3A'+str(untildate)+'&src=typed_query'\n",
    "    browser.get(url)\n",
    "    time.sleep(5)\n",
    "    html = browser.page_source\n",
    "    soup=BeautifulSoup(html,'html.parser')\n",
    "    if len(soup.find_all('div','css-901oao r-111h2gw r-1qd0xha r-a023e6 r-16dba41 r-ad9z0x r-117bsoe r-bcqeeo r-q4m81j r-qvutc0')) > 0 :\n",
    "        break\n",
    "    lastHeight = browser.execute_script(\"return document.body.scrollHeight\")\n",
    "    while True:\n",
    "        dailyfreq={'Date':startdate}\n",
    "        wordfreq=0\n",
    "        tweets=soup.find_all('div','css-901oao r-jwli3a r-1qd0xha r-a023e6 r-16dba41 r-ad9z0x r-bcqeeo r-bnwqim r-qvutc0')\n",
    "        wordfreq+=len(tweets)\n",
    "        browser.execute_script(\"window.scrollTo(0, document.body.scrollHeight);\")\n",
    "        time.sleep(5)\n",
    "        newHeight = browser.execute_script(\"return document.body.scrollHeight\")\n",
    "        if newHeight != lastHeight:\n",
    "            html = browser.page_source\n",
    "            soup=BeautifulSoup(html,'html.parser')\n",
    "            tweets=soup.find_all(\"p\", {\"class\": \"TweetTextSize\"})\n",
    "            wordfreq=len(tweets)\n",
    "        else:\n",
    "            dailyfreq['Frequency']=wordfreq\n",
    "            wordfreq=0\n",
    "            totalfreq.append(dailyfreq)\n",
    "            startdate=untildate\n",
    "            untildate+=dt.timedelta(days=1)\n",
    "            dailyfreq={}\n",
    "            break\n",
    "        lastHeight = newHeight\n",
    "        "
   ]
  },
  {
   "cell_type": "code",
   "execution_count": 31,
   "metadata": {},
   "outputs": [
    {
     "data": {
      "text/plain": [
       "[{'Date': datetime.date(2020, 4, 12), 'Frequency': 0},\n",
       " {'Date': datetime.date(2020, 4, 13), 'Frequency': 11},\n",
       " {'Date': datetime.date(2020, 4, 14), 'Frequency': 21},\n",
       " {'Date': datetime.date(2020, 4, 15), 'Frequency': 15},\n",
       " {'Date': datetime.date(2020, 4, 16), 'Frequency': 20},\n",
       " {'Date': datetime.date(2020, 4, 17), 'Frequency': 13}]"
      ]
     },
     "execution_count": 31,
     "metadata": {},
     "output_type": "execute_result"
    }
   ],
   "source": [
    "totalfreq"
   ]
  },
  {
   "cell_type": "code",
   "execution_count": 32,
   "metadata": {},
   "outputs": [],
   "source": [
    "globals()[i] = pd.concat([globals()[i],pd.DataFrame(totalfreq)],ignore_index=True)"
   ]
  },
  {
   "cell_type": "code",
   "execution_count": 33,
   "metadata": {},
   "outputs": [
    {
     "data": {
      "text/html": [
       "<div>\n",
       "<style scoped>\n",
       "    .dataframe tbody tr th:only-of-type {\n",
       "        vertical-align: middle;\n",
       "    }\n",
       "\n",
       "    .dataframe tbody tr th {\n",
       "        vertical-align: top;\n",
       "    }\n",
       "\n",
       "    .dataframe thead th {\n",
       "        text-align: right;\n",
       "    }\n",
       "</style>\n",
       "<table border=\"1\" class=\"dataframe\">\n",
       "  <thead>\n",
       "    <tr style=\"text-align: right;\">\n",
       "      <th></th>\n",
       "      <th>Date</th>\n",
       "      <th>Frequency</th>\n",
       "    </tr>\n",
       "  </thead>\n",
       "  <tbody>\n",
       "    <tr>\n",
       "      <th>0</th>\n",
       "      <td>2020-02-01</td>\n",
       "      <td>0</td>\n",
       "    </tr>\n",
       "    <tr>\n",
       "      <th>1</th>\n",
       "      <td>2020-02-02</td>\n",
       "      <td>1</td>\n",
       "    </tr>\n",
       "    <tr>\n",
       "      <th>2</th>\n",
       "      <td>2020-02-03</td>\n",
       "      <td>0</td>\n",
       "    </tr>\n",
       "    <tr>\n",
       "      <th>3</th>\n",
       "      <td>2020-02-04</td>\n",
       "      <td>0</td>\n",
       "    </tr>\n",
       "    <tr>\n",
       "      <th>4</th>\n",
       "      <td>2020-02-05</td>\n",
       "      <td>0</td>\n",
       "    </tr>\n",
       "    <tr>\n",
       "      <th>...</th>\n",
       "      <td>...</td>\n",
       "      <td>...</td>\n",
       "    </tr>\n",
       "    <tr>\n",
       "      <th>75</th>\n",
       "      <td>2020-04-13</td>\n",
       "      <td>11</td>\n",
       "    </tr>\n",
       "    <tr>\n",
       "      <th>76</th>\n",
       "      <td>2020-04-14</td>\n",
       "      <td>21</td>\n",
       "    </tr>\n",
       "    <tr>\n",
       "      <th>77</th>\n",
       "      <td>2020-04-15</td>\n",
       "      <td>15</td>\n",
       "    </tr>\n",
       "    <tr>\n",
       "      <th>78</th>\n",
       "      <td>2020-04-16</td>\n",
       "      <td>20</td>\n",
       "    </tr>\n",
       "    <tr>\n",
       "      <th>79</th>\n",
       "      <td>2020-04-17</td>\n",
       "      <td>13</td>\n",
       "    </tr>\n",
       "  </tbody>\n",
       "</table>\n",
       "<p>80 rows × 2 columns</p>\n",
       "</div>"
      ],
      "text/plain": [
       "          Date  Frequency\n",
       "0   2020-02-01          0\n",
       "1   2020-02-02          1\n",
       "2   2020-02-03          0\n",
       "3   2020-02-04          0\n",
       "4   2020-02-05          0\n",
       "..         ...        ...\n",
       "75  2020-04-13         11\n",
       "76  2020-04-14         21\n",
       "77  2020-04-15         15\n",
       "78  2020-04-16         20\n",
       "79  2020-04-17         13\n",
       "\n",
       "[80 rows x 2 columns]"
      ]
     },
     "execution_count": 33,
     "metadata": {},
     "output_type": "execute_result"
    }
   ],
   "source": [
    "globals()[i]"
   ]
  },
  {
   "cell_type": "markdown",
   "metadata": {},
   "source": [
    "아마도 이게 에러났을 때의 html."
   ]
  },
  {
   "cell_type": "code",
   "execution_count": 105,
   "metadata": {},
   "outputs": [
    {
     "data": {
      "text/plain": [
       "[<div class=\"css-901oao r-111h2gw r-1qd0xha r-a023e6 r-16dba41 r-ad9z0x r-117bsoe r-bcqeeo r-q4m81j r-qvutc0\" dir=\"auto\"><span class=\"css-901oao css-16my406 r-1qd0xha r-ad9z0x r-bcqeeo r-qvutc0\">문제가 발생했습니다.</span></div>,\n",
       " <div class=\"css-901oao r-111h2gw r-1qd0xha r-a023e6 r-16dba41 r-ad9z0x r-117bsoe r-bcqeeo r-q4m81j r-qvutc0\" dir=\"auto\"><span class=\"css-901oao css-16my406 r-1qd0xha r-ad9z0x r-bcqeeo r-qvutc0\">문제가 발생했습니다.</span></div>]"
      ]
     },
     "execution_count": 105,
     "metadata": {},
     "output_type": "execute_result"
    }
   ],
   "source": [
    "soup.find_all('div','css-901oao r-111h2gw r-1qd0xha r-a023e6 r-16dba41 r-ad9z0x r-117bsoe r-bcqeeo r-q4m81j r-qvutc0')"
   ]
  },
  {
   "cell_type": "code",
   "execution_count": 34,
   "metadata": {},
   "outputs": [
    {
     "data": {
      "text/html": [
       "<div>\n",
       "<style scoped>\n",
       "    .dataframe tbody tr th:only-of-type {\n",
       "        vertical-align: middle;\n",
       "    }\n",
       "\n",
       "    .dataframe tbody tr th {\n",
       "        vertical-align: top;\n",
       "    }\n",
       "\n",
       "    .dataframe thead th {\n",
       "        text-align: right;\n",
       "    }\n",
       "</style>\n",
       "<table border=\"1\" class=\"dataframe\">\n",
       "  <thead>\n",
       "    <tr style=\"text-align: right;\">\n",
       "      <th></th>\n",
       "      <th>Date</th>\n",
       "      <th>Frequency</th>\n",
       "    </tr>\n",
       "  </thead>\n",
       "  <tbody>\n",
       "    <tr>\n",
       "      <th>0</th>\n",
       "      <td>2020-02-01</td>\n",
       "      <td>0</td>\n",
       "    </tr>\n",
       "    <tr>\n",
       "      <th>1</th>\n",
       "      <td>2020-02-02</td>\n",
       "      <td>1</td>\n",
       "    </tr>\n",
       "    <tr>\n",
       "      <th>2</th>\n",
       "      <td>2020-02-03</td>\n",
       "      <td>0</td>\n",
       "    </tr>\n",
       "    <tr>\n",
       "      <th>3</th>\n",
       "      <td>2020-02-04</td>\n",
       "      <td>0</td>\n",
       "    </tr>\n",
       "    <tr>\n",
       "      <th>4</th>\n",
       "      <td>2020-02-05</td>\n",
       "      <td>0</td>\n",
       "    </tr>\n",
       "  </tbody>\n",
       "</table>\n",
       "</div>"
      ],
      "text/plain": [
       "         Date  Frequency\n",
       "0  2020-02-01          0\n",
       "1  2020-02-02          1\n",
       "2  2020-02-03          0\n",
       "3  2020-02-04          0\n",
       "4  2020-02-05          0"
      ]
     },
     "execution_count": 34,
     "metadata": {},
     "output_type": "execute_result"
    }
   ],
   "source": [
    "달고나커피.head()"
   ]
  },
  {
   "cell_type": "code",
   "execution_count": 64,
   "metadata": {},
   "outputs": [],
   "source": [
    "달고나커피.to_csv('twitter_dalgona.csv')"
   ]
  },
  {
   "cell_type": "code",
   "execution_count": 65,
   "metadata": {},
   "outputs": [],
   "source": [
    "코로나.to_csv('corona_korean_0320.csv')"
   ]
  },
  {
   "cell_type": "code",
   "execution_count": null,
   "metadata": {},
   "outputs": [],
   "source": []
  }
 ],
 "metadata": {
  "kernelspec": {
   "display_name": "Python 3",
   "language": "python",
   "name": "python3"
  },
  "language_info": {
   "codemirror_mode": {
    "name": "ipython",
    "version": 3
   },
   "file_extension": ".py",
   "mimetype": "text/x-python",
   "name": "python",
   "nbconvert_exporter": "python",
   "pygments_lexer": "ipython3",
   "version": "3.7.6"
  }
 },
 "nbformat": 4,
 "nbformat_minor": 4
}
