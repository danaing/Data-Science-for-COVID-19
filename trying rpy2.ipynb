{
 "cells": [
  {
   "cell_type": "code",
   "execution_count": 3,
   "metadata": {},
   "outputs": [],
   "source": [
    "%load_ext rpy2.ipython"
   ]
  },
  {
   "cell_type": "code",
   "execution_count": 5,
   "metadata": {},
   "outputs": [
    {
     "name": "stderr",
     "output_type": "stream",
     "text": [
      "\n",
      "Bad key \"text.kerning_factor\" on line 4 in\n",
      "/Users/seonwoolim/anaconda3/lib/python3.7/site-packages/matplotlib/mpl-data/stylelib/_classic_test_patch.mplstyle.\n",
      "You probably need to get an updated matplotlibrc file from\n",
      "http://github.com/matplotlib/matplotlib/blob/master/matplotlibrc.template\n",
      "or from the matplotlib source distribution\n"
     ]
    }
   ],
   "source": [
    "import numpy as np \n",
    "import pandas as pd\n",
    "import os\n",
    "import io\n",
    "import glob\n",
    "import re\n",
    "import sys\n",
    "from datetime import datetime, timedelta\n",
    "\n",
    "import plotnine\n",
    "import matplotlib.pyplot as plt\n",
    "import seaborn as sns\n",
    "from matplotlib import animation, rc\n",
    "import geopandas as gpd\n",
    "from shapely.geometry import Point, Polygon, LineString\n",
    "import plotly.express as px\n",
    "import folium\n",
    "from folium import plugins\n",
    "import branca\n",
    "import json\n",
    "\n",
    "import cufflinks as cf\n",
    "from plotly.offline import download_plotlyjs, init_notebook_mode, plot, iplot\n",
    "import plotly\n",
    "import plotly.io as pio\n",
    "pio.renderers.default = \"notebook_connected\""
   ]
  },
  {
   "cell_type": "code",
   "execution_count": 6,
   "metadata": {},
   "outputs": [
    {
     "data": {
      "text/plain": [
       "['SeoulFloating',\n",
       " 'TimeAge',\n",
       " 'SearchTrend',\n",
       " 'TimeProvince',\n",
       " 'Weather',\n",
       " 'PatientRoute',\n",
       " 'PatientInfo',\n",
       " 'Region',\n",
       " 'TimeGender',\n",
       " 'Case',\n",
       " 'Time']"
      ]
     },
     "execution_count": 6,
     "metadata": {},
     "output_type": "execute_result"
    }
   ],
   "source": [
    "files = glob.glob('dataset/*.csv')\n",
    "data = []\n",
    "for i in files :\n",
    "    i = re.sub(\"dataset/\", \"\", i)\n",
    "    data.append(re.sub(\".csv\",\"\",i))\n",
    "for i in range(len(files)) :\n",
    "    globals()[data[i]] = pd.read_csv(files[i])\n",
    "data"
   ]
  },
  {
   "cell_type": "code",
   "execution_count": 8,
   "metadata": {},
   "outputs": [
    {
     "data": {
      "text/plain": [
       "[1] \"R version 3.6.1 (2019-07-05)\"\n"
      ]
     },
     "metadata": {},
     "output_type": "display_data"
    }
   ],
   "source": [
    "%%R\n",
    "R.version.string"
   ]
  },
  {
   "cell_type": "code",
   "execution_count": 11,
   "metadata": {},
   "outputs": [
    {
     "data": {
      "text/plain": [
       "           province confirmed latitude longitude         city\n",
       "21            Daegu      4508 35.84008  128.5667       Nam-gu\n",
       "22            Daegu       185 35.85737  128.4667 Dalseong-gun\n",
       "23            Daegu       126 35.88559  128.5566       Seo-gu\n",
       "24            Daegu        98 35.85739  128.4667 Dalseong-gun\n",
       "25            Daegu        35 35.88395  128.6241      Dong-gu\n",
       "88 Gyeongsangbuk-do       120 35.64887  128.7368 Cheongdo-gun\n"
      ]
     },
     "metadata": {},
     "output_type": "display_data"
    }
   ],
   "source": [
    "%%R\n",
    "data = read.csv('dataset/Case.csv',as.is = T)\n",
    "data = data[data$province == \"Daegu\"| data$province == \"Gyeongsangbuk-do\"|data$province ==  \"Gyeongsangnam-do\",]\n",
    "data = subset(data, select=c(\"province\",\"confirmed\",\"latitude\",\"longitude\",\"city\"))\n",
    "data = data[data[,3]!=\"-\",]\n",
    "data$confirmed = as.numeric(data$confirmed)\n",
    "data$latitude = as.numeric(data$latitude)\n",
    "data$longitude = as.numeric(data$longitude)\n",
    "head(data)"
   ]
  },
  {
   "cell_type": "code",
   "execution_count": 12,
   "metadata": {},
   "outputs": [
    {
     "data": {
      "text/plain": [
       "    patient_id province    city\n",
       "695    1.2e+09    Daegu Jung-gu\n",
       "696    1.2e+09    Daegu Jung-gu\n",
       "697    1.2e+09    Daegu  Nam-gu\n",
       "698    1.2e+09    Daegu  Nam-gu\n",
       "699    1.2e+09    Daegu  Nam-gu\n",
       "700    1.2e+09    Daegu  Nam-gu\n"
      ]
     },
     "metadata": {},
     "output_type": "display_data"
    }
   ],
   "source": [
    "%%R\n",
    "patient = read.csv(\"dataset/PatientInfo.csv\", as.is = T)\n",
    "patient = patient[patient$province == \"Daegu\"| patient$province == \"Gyeongsangbuk-do\"|patient$province ==  \"Gyeongsangnam-do\",]\n",
    "patient = subset(patient, select=c(\"patient_id\",\"province\",\"city\"))\n",
    "patient = patient[patient[,3]!=\"\",]\n",
    "head(patient)"
   ]
  },
  {
   "cell_type": "code",
   "execution_count": null,
   "metadata": {},
   "outputs": [],
   "source": [
    "import rpy2.interactive as r\n",
    "import rpy2.interactive.packages"
   ]
  },
  {
   "cell_type": "code",
   "execution_count": null,
   "metadata": {},
   "outputs": [],
   "source": []
  }
 ],
 "metadata": {
  "kernelspec": {
   "display_name": "Python 3",
   "language": "python",
   "name": "python3"
  },
  "language_info": {
   "codemirror_mode": {
    "name": "ipython",
    "version": 3
   },
   "file_extension": ".py",
   "mimetype": "text/x-python",
   "name": "python",
   "nbconvert_exporter": "python",
   "pygments_lexer": "ipython3",
   "version": "3.7.3"
  }
 },
 "nbformat": 4,
 "nbformat_minor": 2
}
